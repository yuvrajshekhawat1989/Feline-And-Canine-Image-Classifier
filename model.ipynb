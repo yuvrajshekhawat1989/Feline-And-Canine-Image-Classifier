{
 "cells": [
  {
   "cell_type": "code",
   "execution_count": 1,
   "metadata": {},
   "outputs": [
    {
     "name": "stderr",
     "output_type": "stream",
     "text": [
      "2023-06-25 22:52:12.207639: I tensorflow/tsl/cuda/cudart_stub.cc:28] Could not find cuda drivers on your machine, GPU will not be used.\n",
      "2023-06-25 22:52:12.310384: I tensorflow/tsl/cuda/cudart_stub.cc:28] Could not find cuda drivers on your machine, GPU will not be used.\n",
      "2023-06-25 22:52:12.311760: I tensorflow/core/platform/cpu_feature_guard.cc:182] This TensorFlow binary is optimized to use available CPU instructions in performance-critical operations.\n",
      "To enable the following instructions: AVX2 FMA, in other operations, rebuild TensorFlow with the appropriate compiler flags.\n",
      "2023-06-25 22:52:13.479438: W tensorflow/compiler/tf2tensorrt/utils/py_utils.cc:38] TF-TRT Warning: Could not find TensorRT\n"
     ]
    }
   ],
   "source": [
    "import numpy as np\n",
    "import matplotlib.pyplot as plt\n",
    "import matplotlib.image as mpimg\n",
    "from shutil import move,rmtree\n",
    "from PIL import Image\n",
    "from keras.models import Sequential\n",
    "from keras.layers import Conv2D,MaxPooling2D,Flatten,Dense,Dropout\n",
    "from keras.optimizers import SGD\n",
    "from keras.preprocessing.image import ImageDataGenerator\n",
    "import os"
   ]
  },
  {
   "cell_type": "code",
   "execution_count": 2,
   "metadata": {},
   "outputs": [],
   "source": [
    "# Creating a directory structure for dataset to use keras API\n",
    "dataset_home = 'dataset_dogs_vs_cats/'\n",
    "subdirs = ['train/','test/']\n",
    "labeldirs = ['dogs/','cats/']\n",
    "for subdir in subdirs:\n",
    "    for labeldir in labeldirs:\n",
    "        newdir = dataset_home+subdir+labeldir\n",
    "        os.makedirs(newdir,exist_ok=True)"
   ]
  },
  {
   "cell_type": "code",
   "execution_count": 3,
   "metadata": {},
   "outputs": [
    {
     "name": "stderr",
     "output_type": "stream",
     "text": [
      "/usr/lib/python3/dist-packages/PIL/TiffImagePlugin.py:822: UserWarning: Truncated File Read\n",
      "  warnings.warn(str(msg))\n"
     ]
    },
    {
     "name": "stdout",
     "output_type": "stream",
     "text": [
      "Corrupted Images:\n",
      "PetImages/Dog/11702.jpg\n",
      "PetImages/Dog/Thumbs.db\n",
      "PetImages/Cat/666.jpg\n",
      "PetImages/Cat/Thumbs.db\n",
      "Corrupted images removed.\n"
     ]
    }
   ],
   "source": [
    "# Delete the corrrupt Images from dataset\n",
    "dataset_dirs = ['PetImages/Dog/','PetImages/Cat/']  # Replace with the path to your dataset directory\n",
    "\n",
    "corrupted_images = []  # List to store the paths of corrupted images\n",
    "\n",
    "# Iterate through the dataset directory\n",
    "for dataset_dir in dataset_dirs:\n",
    "    for root, dirs, files in os.walk(dataset_dir):\n",
    "        for file in files:\n",
    "            file_path = os.path.join(root, file)\n",
    "            try:\n",
    "                # Attempt to open the image\n",
    "                Image.open(file_path)\n",
    "            except (IOError, OSError):\n",
    "                # Add the file path to the list of corrupted images\n",
    "                corrupted_images.append(file_path)\n",
    "\n",
    "# Print the corrupted images\n",
    "print(\"Corrupted Images:\")\n",
    "for img_path in corrupted_images:\n",
    "    print(img_path)\n",
    "\n",
    "# Delete the corrupted images\n",
    "for img_path in corrupted_images:\n",
    "    os.remove(img_path)\n",
    "\n",
    "print(\"Corrupted images removed.\")"
   ]
  },
  {
   "cell_type": "code",
   "execution_count": 4,
   "metadata": {},
   "outputs": [],
   "source": [
    "# Move the dataset Images to our created directory structure\n",
    "testRatio = 0.2 # The ratio of images that will be included in test dataset\n",
    "np.random.seed(1) #Seeding\n",
    "src_folders = ['PetImages/Dog/','PetImages/Cat/']\n",
    "for folder in src_folders:\n",
    "    for file in os.listdir(folder):\n",
    "        src = folder+file\n",
    "        dst_dir = 'train/'\n",
    "        if np.random.random()<testRatio:\n",
    "            dst_dir = 'test/'\n",
    "        dst = dataset_home+dst_dir\n",
    "        if folder=='PetImages/Cat/':\n",
    "            dst+='cats/'\n",
    "        else:\n",
    "            dst+='dogs/'\n",
    "        dst+=file\n",
    "        move(src,dst)"
   ]
  },
  {
   "cell_type": "code",
   "execution_count": null,
   "metadata": {},
   "outputs": [],
   "source": []
  }
 ],
 "metadata": {
  "kernelspec": {
   "display_name": "Python 3",
   "language": "python",
   "name": "python3"
  },
  "language_info": {
   "codemirror_mode": {
    "name": "ipython",
    "version": 3
   },
   "file_extension": ".py",
   "mimetype": "text/x-python",
   "name": "python",
   "nbconvert_exporter": "python",
   "pygments_lexer": "ipython3",
   "version": "3.10.6"
  },
  "orig_nbformat": 4
 },
 "nbformat": 4,
 "nbformat_minor": 2
}
